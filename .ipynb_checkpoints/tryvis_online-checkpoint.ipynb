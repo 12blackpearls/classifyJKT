{
 "cells": [
  {
   "cell_type": "code",
   "execution_count": 1,
   "metadata": {
    "collapsed": false
   },
   "outputs": [
    {
     "data": {
      "text/html": [
       "<iframe id=\"igraph\" scrolling=\"no\" style=\"border:none;\" seamless=\"seamless\" src=\"https://plot.ly/~kuroipearls/4.embed\" height=\"525px\" width=\"100%\"></iframe>"
      ],
      "text/plain": [
       "<plotly.tools.PlotlyDisplay object>"
      ]
     },
     "execution_count": 1,
     "metadata": {},
     "output_type": "execute_result"
    }
   ],
   "source": [
    "import plotly\n",
    "plotly.tools.set_credentials_file(username='kuroipearls', api_key='nxxxaZxvDlQitZ42f6cy')\n",
    "import plotly.plotly as py\n",
    "import plotly.graph_objs as go\n",
    "import pandas as pd\n",
    "import datetime\n",
    "from dateutil import parser\n",
    "\n",
    "#df1 for paslon 1, df2 for paslon 2, df3 for paslon 3\n",
    "dateparse = lambda x: pd.datetime.strptime(x, '%d/%m/%Y %H:%M')\n",
    "df1 = pd.read_csv('label_visualisasi2/agussylvifixeditSS.csv', sep=',', parse_dates=['date'], date_parser=dateparse)\n",
    "df2 = pd.read_csv('label_visualisasi2/ahokdjarotfixeditSS.csv', sep=',', parse_dates=['date'], date_parser=dateparse)\n",
    "df3 = pd.read_csv('label_visualisasi2/aniessandifixeditSS.csv', sep=',', parse_dates=['date'], date_parser=dateparse)\n",
    "df1['just_date'] = df1['date'].dt.date\n",
    "df2['just_date'] = df2['date'].dt.date\n",
    "df3['just_date'] = df3['date'].dt.date\n",
    "df1['count'] = 1\n",
    "df2['count'] = 1\n",
    "df3['count'] = 1\n",
    "\n",
    "dcounts1 = df1.groupby(by=['sentimen_1', 'just_date']).count()\n",
    "dfcounts1 = dcounts1.unstack(level='sentimen_1')['count']\n",
    "dfcounts1 = dfcounts1.reset_index('date')\n",
    "dfcounts1.columns = ['date','negative','neutral','positive']\n",
    "\n",
    "dcounts2 = df2.groupby(by=['sentimen_2', 'just_date']).count()\n",
    "dfcounts2 = dcounts2.unstack(level='sentimen_2')['count']\n",
    "dfcounts2 = dfcounts2.reset_index('date')\n",
    "dfcounts2.columns = ['date','negative','neutral','positive']\n",
    "\n",
    "dcounts3 = df3.groupby(by=['sentimen_3', 'just_date']).count()\n",
    "dfcounts3 = dcounts3.unstack(level='sentimen_3')['count']\n",
    "dfcounts3 = dfcounts3.reset_index('date')\n",
    "dfcounts3.columns = ['date','negative','neutral','positive']\n",
    "\n",
    "#chart for positive sentiments\n",
    "paslon1_pos = go.Scatter(\n",
    "                x=dfcounts1['date'],\n",
    "                y=dfcounts1['positive'],\n",
    "                name = \"Agus-Sylvi\",\n",
    "                line = dict(color = '#0d0e0f'),\n",
    "                opacity = 0.8)\n",
    "\n",
    "paslon2_pos = go.Scatter(\n",
    "                x=dfcounts2['date'],\n",
    "                y=dfcounts2['positive'],\n",
    "                name = \"Ahok-Djarot\",\n",
    "                line = dict(color = '#D91E18'),\n",
    "                opacity = 0.8)\n",
    "\n",
    "paslon3_pos = go.Scatter(\n",
    "                x=dfcounts3['date'],\n",
    "                y=dfcounts3['positive'],\n",
    "                name = \"Anies-Sandi\",\n",
    "                line = dict(color = '#3A539B'),\n",
    "                opacity = 0.8)\n",
    "\n",
    "data = [paslon1_pos, paslon2_pos, paslon3_pos]\n",
    "\n",
    "layout = dict(\n",
    "    title = \"Grafik Sentimen Positif Masyarakat pada Twitter terhadap Paslon DKI Jakarta 2017\"\n",
    ")\n",
    "\n",
    "fig = dict(data=data, layout=layout)\n",
    "\n",
    "py.iplot(fig, filename = \"Grafik Positif Paslon\")"
   ]
  },
  {
   "cell_type": "code",
   "execution_count": null,
   "metadata": {
    "collapsed": true
   },
   "outputs": [],
   "source": []
  }
 ],
 "metadata": {
  "kernelspec": {
   "display_name": "Python 3",
   "language": "python",
   "name": "python3"
  },
  "language_info": {
   "codemirror_mode": {
    "name": "ipython",
    "version": 3
   },
   "file_extension": ".py",
   "mimetype": "text/x-python",
   "name": "python",
   "nbconvert_exporter": "python",
   "pygments_lexer": "ipython3",
   "version": "3.6.0"
  }
 },
 "nbformat": 4,
 "nbformat_minor": 2
}
